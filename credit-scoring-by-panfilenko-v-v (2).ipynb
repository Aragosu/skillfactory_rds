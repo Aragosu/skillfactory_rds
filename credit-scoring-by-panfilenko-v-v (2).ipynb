{
 "cells": [
  {
   "cell_type": "markdown",
   "metadata": {
    "papermill": {
     "duration": 0.043101,
     "end_time": "2020-10-19T16:14:08.075020",
     "exception": false,
     "start_time": "2020-10-19T16:14:08.031919",
     "status": "completed"
    },
    "tags": []
   },
   "source": [
    "# 0. Импорт библиотек"
   ]
  },
  {
   "cell_type": "code",
   "execution_count": 1,
   "metadata": {
    "_cell_guid": "b1076dfc-b9ad-4769-8c92-a6c4dae69d19",
    "_uuid": "8f2839f25d086af736a60e9eeb907d3b93b6e0e5",
    "execution": {
     "iopub.execute_input": "2020-10-19T16:14:08.173840Z",
     "iopub.status.busy": "2020-10-19T16:14:08.173007Z",
     "iopub.status.idle": "2020-10-19T16:14:10.528107Z",
     "shell.execute_reply": "2020-10-19T16:14:10.527275Z"
    },
    "papermill": {
     "duration": 2.408651,
     "end_time": "2020-10-19T16:14:10.528250",
     "exception": false,
     "start_time": "2020-10-19T16:14:08.119599",
     "status": "completed"
    },
    "tags": []
   },
   "outputs": [
    {
     "name": "stdout",
     "output_type": "stream",
     "text": [
      "/kaggle/input/sf-dst-scoring/train.csv\n",
      "/kaggle/input/sf-dst-scoring/test.csv\n",
      "/kaggle/input/sf-dst-scoring/sample_submission.csv\n"
     ]
    }
   ],
   "source": [
    "import pandas as pd\n",
    "from pandas import Series\n",
    "import numpy as np\n",
    "\n",
    "\n",
    "import matplotlib.pyplot as plt\n",
    "import plotly.express as px\n",
    "import seaborn as sns\n",
    "\n",
    "from sklearn.feature_selection import f_classif, mutual_info_classif\n",
    "from sklearn.preprocessing import LabelEncoder, OneHotEncoder, StandardScaler\n",
    "\n",
    "from sklearn.model_selection import train_test_split\n",
    "from sklearn.linear_model import LogisticRegression\n",
    "\n",
    "\n",
    "from sklearn.metrics import confusion_matrix\n",
    "from sklearn.metrics import auc, roc_auc_score, roc_curve\n",
    "\n",
    "import os\n",
    "for dirname, _, filenames in os.walk('/kaggle/input'):\n",
    "    for filename in filenames:\n",
    "        print(os.path.join(dirname, filename))\n",
    "\n",
    "import collections\n",
    "        \n",
    "import warnings\n",
    "warnings.filterwarnings(\"ignore\")"
   ]
  },
  {
   "cell_type": "markdown",
   "metadata": {
    "papermill": {
     "duration": 0.041983,
     "end_time": "2020-10-19T16:14:10.613595",
     "exception": false,
     "start_time": "2020-10-19T16:14:10.571612",
     "status": "completed"
    },
    "tags": []
   },
   "source": [
    "# 1. Импорт данных"
   ]
  },
  {
   "cell_type": "code",
   "execution_count": 2,
   "metadata": {
    "execution": {
     "iopub.execute_input": "2020-10-19T16:14:10.705456Z",
     "iopub.status.busy": "2020-10-19T16:14:10.704714Z",
     "iopub.status.idle": "2020-10-19T16:14:11.037157Z",
     "shell.execute_reply": "2020-10-19T16:14:11.036419Z"
    },
    "papermill": {
     "duration": 0.381326,
     "end_time": "2020-10-19T16:14:11.037279",
     "exception": false,
     "start_time": "2020-10-19T16:14:10.655953",
     "status": "completed"
    },
    "tags": []
   },
   "outputs": [
    {
     "data": {
      "text/html": [
       "<div>\n",
       "<style scoped>\n",
       "    .dataframe tbody tr th:only-of-type {\n",
       "        vertical-align: middle;\n",
       "    }\n",
       "\n",
       "    .dataframe tbody tr th {\n",
       "        vertical-align: top;\n",
       "    }\n",
       "\n",
       "    .dataframe thead th {\n",
       "        text-align: right;\n",
       "    }\n",
       "</style>\n",
       "<table border=\"1\" class=\"dataframe\">\n",
       "  <thead>\n",
       "    <tr style=\"text-align: right;\">\n",
       "      <th></th>\n",
       "      <th>client_id</th>\n",
       "      <th>app_date</th>\n",
       "      <th>education</th>\n",
       "      <th>sex</th>\n",
       "      <th>age</th>\n",
       "      <th>car</th>\n",
       "      <th>car_type</th>\n",
       "      <th>decline_app_cnt</th>\n",
       "      <th>good_work</th>\n",
       "      <th>score_bki</th>\n",
       "      <th>bki_request_cnt</th>\n",
       "      <th>region_rating</th>\n",
       "      <th>home_address</th>\n",
       "      <th>work_address</th>\n",
       "      <th>income</th>\n",
       "      <th>sna</th>\n",
       "      <th>first_time</th>\n",
       "      <th>foreign_passport</th>\n",
       "      <th>default</th>\n",
       "    </tr>\n",
       "  </thead>\n",
       "  <tbody>\n",
       "    <tr>\n",
       "      <th>0</th>\n",
       "      <td>25905</td>\n",
       "      <td>01FEB2014</td>\n",
       "      <td>SCH</td>\n",
       "      <td>M</td>\n",
       "      <td>62</td>\n",
       "      <td>Y</td>\n",
       "      <td>Y</td>\n",
       "      <td>0</td>\n",
       "      <td>0</td>\n",
       "      <td>-2.008753</td>\n",
       "      <td>1</td>\n",
       "      <td>50</td>\n",
       "      <td>1</td>\n",
       "      <td>2</td>\n",
       "      <td>18000</td>\n",
       "      <td>4</td>\n",
       "      <td>1</td>\n",
       "      <td>N</td>\n",
       "      <td>0</td>\n",
       "    </tr>\n",
       "    <tr>\n",
       "      <th>1</th>\n",
       "      <td>63161</td>\n",
       "      <td>12MAR2014</td>\n",
       "      <td>SCH</td>\n",
       "      <td>F</td>\n",
       "      <td>59</td>\n",
       "      <td>N</td>\n",
       "      <td>N</td>\n",
       "      <td>0</td>\n",
       "      <td>0</td>\n",
       "      <td>-1.532276</td>\n",
       "      <td>3</td>\n",
       "      <td>50</td>\n",
       "      <td>2</td>\n",
       "      <td>3</td>\n",
       "      <td>19000</td>\n",
       "      <td>4</td>\n",
       "      <td>1</td>\n",
       "      <td>N</td>\n",
       "      <td>0</td>\n",
       "    </tr>\n",
       "  </tbody>\n",
       "</table>\n",
       "</div>"
      ],
      "text/plain": [
       "   client_id   app_date education sex  age car car_type  decline_app_cnt  \\\n",
       "0      25905  01FEB2014       SCH   M   62   Y        Y                0   \n",
       "1      63161  12MAR2014       SCH   F   59   N        N                0   \n",
       "\n",
       "   good_work  score_bki  bki_request_cnt  region_rating  home_address  \\\n",
       "0          0  -2.008753                1             50             1   \n",
       "1          0  -1.532276                3             50             2   \n",
       "\n",
       "   work_address  income  sna  first_time foreign_passport  default  \n",
       "0             2   18000    4           1                N        0  \n",
       "1             3   19000    4           1                N        0  "
      ]
     },
     "execution_count": 2,
     "metadata": {},
     "output_type": "execute_result"
    }
   ],
   "source": [
    "train = pd.read_csv('/kaggle/input/sf-dst-scoring/train.csv')\n",
    "test= pd.read_csv('/kaggle/input/sf-dst-scoring/test.csv')\n",
    "train.head(2)"
   ]
  },
  {
   "cell_type": "markdown",
   "metadata": {
    "papermill": {
     "duration": 0.04452,
     "end_time": "2020-10-19T16:14:11.125176",
     "exception": false,
     "start_time": "2020-10-19T16:14:11.080656",
     "status": "completed"
    },
    "tags": []
   },
   "source": [
    "- **client_id** - идентификатор клиента\n",
    "- **education** - уровень образования\n",
    "- **sex** - пол заемщика\n",
    "- **age** - возраст заемщика\n",
    "- **car** - флаг наличия автомобиля\n",
    "- **car_type** - флаг автомобиля иномарки\n",
    "- **decline_app_cnt** - количество отказанных прошлых заявок\n",
    "- **good_work** - флаг наличия “хорошей” работы\n",
    "- **bki_request_cnt** - количество запросов в БКИ\n",
    "- **home_address** - категоризатор домашнего адреса\n",
    "- **work_address** - категоризатор рабочего адреса\n",
    "- **income** - доход заемщика\n",
    "- **foreign_passport** - наличие загранпаспорта\n",
    "- **sna** - связь заемщика с клиентами банка\n",
    "- **first_time** - давность наличия информации о заемщике\n",
    "- **score_bki** - скоринговый балл по данным из БКИ\n",
    "- **region_rating** - рейтинг региона\n",
    "- **app_date** - дата подачи заявки\n",
    "- **default** - флаг дефолта по кредиту"
   ]
  },
  {
   "cell_type": "markdown",
   "metadata": {
    "papermill": {
     "duration": 0.055919,
     "end_time": "2020-10-19T16:14:11.234191",
     "exception": false,
     "start_time": "2020-10-19T16:14:11.178272",
     "status": "completed"
    },
    "tags": []
   },
   "source": [
    "## 1.1 Краткая информация о датасетах"
   ]
  },
  {
   "cell_type": "code",
   "execution_count": 3,
   "metadata": {
    "execution": {
     "iopub.execute_input": "2020-10-19T16:14:11.379018Z",
     "iopub.status.busy": "2020-10-19T16:14:11.332905Z",
     "iopub.status.idle": "2020-10-19T16:14:11.432776Z",
     "shell.execute_reply": "2020-10-19T16:14:11.432040Z"
    },
    "papermill": {
     "duration": 0.150164,
     "end_time": "2020-10-19T16:14:11.432899",
     "exception": false,
     "start_time": "2020-10-19T16:14:11.282735",
     "status": "completed"
    },
    "tags": []
   },
   "outputs": [
    {
     "name": "stdout",
     "output_type": "stream",
     "text": [
      "<class 'pandas.core.frame.DataFrame'>\n",
      "RangeIndex: 73799 entries, 0 to 73798\n",
      "Data columns (total 19 columns):\n",
      " #   Column            Non-Null Count  Dtype  \n",
      "---  ------            --------------  -----  \n",
      " 0   client_id         73799 non-null  int64  \n",
      " 1   app_date          73799 non-null  object \n",
      " 2   education         73492 non-null  object \n",
      " 3   sex               73799 non-null  object \n",
      " 4   age               73799 non-null  int64  \n",
      " 5   car               73799 non-null  object \n",
      " 6   car_type          73799 non-null  object \n",
      " 7   decline_app_cnt   73799 non-null  int64  \n",
      " 8   good_work         73799 non-null  int64  \n",
      " 9   score_bki         73799 non-null  float64\n",
      " 10  bki_request_cnt   73799 non-null  int64  \n",
      " 11  region_rating     73799 non-null  int64  \n",
      " 12  home_address      73799 non-null  int64  \n",
      " 13  work_address      73799 non-null  int64  \n",
      " 14  income            73799 non-null  int64  \n",
      " 15  sna               73799 non-null  int64  \n",
      " 16  first_time        73799 non-null  int64  \n",
      " 17  foreign_passport  73799 non-null  object \n",
      " 18  default           73799 non-null  int64  \n",
      "dtypes: float64(1), int64(12), object(6)\n",
      "memory usage: 10.7+ MB\n",
      "<class 'pandas.core.frame.DataFrame'>\n",
      "RangeIndex: 36349 entries, 0 to 36348\n",
      "Data columns (total 18 columns):\n",
      " #   Column            Non-Null Count  Dtype  \n",
      "---  ------            --------------  -----  \n",
      " 0   client_id         36349 non-null  int64  \n",
      " 1   app_date          36349 non-null  object \n",
      " 2   education         36178 non-null  object \n",
      " 3   sex               36349 non-null  object \n",
      " 4   age               36349 non-null  int64  \n",
      " 5   car               36349 non-null  object \n",
      " 6   car_type          36349 non-null  object \n",
      " 7   decline_app_cnt   36349 non-null  int64  \n",
      " 8   good_work         36349 non-null  int64  \n",
      " 9   score_bki         36349 non-null  float64\n",
      " 10  bki_request_cnt   36349 non-null  int64  \n",
      " 11  region_rating     36349 non-null  int64  \n",
      " 12  home_address      36349 non-null  int64  \n",
      " 13  work_address      36349 non-null  int64  \n",
      " 14  income            36349 non-null  int64  \n",
      " 15  sna               36349 non-null  int64  \n",
      " 16  first_time        36349 non-null  int64  \n",
      " 17  foreign_passport  36349 non-null  object \n",
      "dtypes: float64(1), int64(11), object(6)\n",
      "memory usage: 5.0+ MB\n"
     ]
    },
    {
     "data": {
      "text/plain": [
       "(None, None)"
      ]
     },
     "execution_count": 3,
     "metadata": {},
     "output_type": "execute_result"
    }
   ],
   "source": [
    "train.info(), test.info()"
   ]
  },
  {
   "cell_type": "code",
   "execution_count": 4,
   "metadata": {
    "execution": {
     "iopub.execute_input": "2020-10-19T16:14:11.528926Z",
     "iopub.status.busy": "2020-10-19T16:14:11.528074Z",
     "iopub.status.idle": "2020-10-19T16:14:11.533337Z",
     "shell.execute_reply": "2020-10-19T16:14:11.532627Z"
    },
    "papermill": {
     "duration": 0.056242,
     "end_time": "2020-10-19T16:14:11.533509",
     "exception": false,
     "start_time": "2020-10-19T16:14:11.477267",
     "status": "completed"
    },
    "tags": []
   },
   "outputs": [
    {
     "data": {
      "text/plain": [
       "(Index(['client_id', 'app_date', 'education', 'sex', 'age', 'car', 'car_type',\n",
       "        'decline_app_cnt', 'good_work', 'score_bki', 'bki_request_cnt',\n",
       "        'region_rating', 'home_address', 'work_address', 'income', 'sna',\n",
       "        'first_time', 'foreign_passport', 'default'],\n",
       "       dtype='object'),\n",
       " Index(['client_id', 'app_date', 'education', 'sex', 'age', 'car', 'car_type',\n",
       "        'decline_app_cnt', 'good_work', 'score_bki', 'bki_request_cnt',\n",
       "        'region_rating', 'home_address', 'work_address', 'income', 'sna',\n",
       "        'first_time', 'foreign_passport'],\n",
       "       dtype='object'))"
      ]
     },
     "execution_count": 4,
     "metadata": {},
     "output_type": "execute_result"
    }
   ],
   "source": [
    "train.columns, test.columns"
   ]
  },
  {
   "cell_type": "markdown",
   "metadata": {
    "papermill": {
     "duration": 0.044894,
     "end_time": "2020-10-19T16:14:11.623801",
     "exception": false,
     "start_time": "2020-10-19T16:14:11.578907",
     "status": "completed"
    },
    "tags": []
   },
   "source": [
    "## 1.2 Пропуски в датасете"
   ]
  },
  {
   "cell_type": "code",
   "execution_count": 5,
   "metadata": {
    "execution": {
     "iopub.execute_input": "2020-10-19T16:14:11.766357Z",
     "iopub.status.busy": "2020-10-19T16:14:11.719767Z",
     "iopub.status.idle": "2020-10-19T16:14:11.801669Z",
     "shell.execute_reply": "2020-10-19T16:14:11.802217Z"
    },
    "papermill": {
     "duration": 0.133308,
     "end_time": "2020-10-19T16:14:11.802384",
     "exception": false,
     "start_time": "2020-10-19T16:14:11.669076",
     "status": "completed"
    },
    "tags": []
   },
   "outputs": [
    {
     "data": {
      "text/plain": [
       "(client_id             0\n",
       " app_date              0\n",
       " education           307\n",
       " sex                   0\n",
       " age                   0\n",
       " car                   0\n",
       " car_type              0\n",
       " decline_app_cnt       0\n",
       " good_work             0\n",
       " score_bki             0\n",
       " bki_request_cnt       0\n",
       " region_rating         0\n",
       " home_address          0\n",
       " work_address          0\n",
       " income                0\n",
       " sna                   0\n",
       " first_time            0\n",
       " foreign_passport      0\n",
       " default               0\n",
       " dtype: int64,\n",
       " client_id             0\n",
       " app_date              0\n",
       " education           171\n",
       " sex                   0\n",
       " age                   0\n",
       " car                   0\n",
       " car_type              0\n",
       " decline_app_cnt       0\n",
       " good_work             0\n",
       " score_bki             0\n",
       " bki_request_cnt       0\n",
       " region_rating         0\n",
       " home_address          0\n",
       " work_address          0\n",
       " income                0\n",
       " sna                   0\n",
       " first_time            0\n",
       " foreign_passport      0\n",
       " dtype: int64)"
      ]
     },
     "execution_count": 5,
     "metadata": {},
     "output_type": "execute_result"
    }
   ],
   "source": [
    "train.isnull().sum(), test.isnull().sum()"
   ]
  },
  {
   "cell_type": "markdown",
   "metadata": {
    "papermill": {
     "duration": 0.045805,
     "end_time": "2020-10-19T16:14:11.894021",
     "exception": false,
     "start_time": "2020-10-19T16:14:11.848216",
     "status": "completed"
    },
    "tags": []
   },
   "source": [
    "### Заполним пропуски самым частым значением"
   ]
  },
  {
   "cell_type": "code",
   "execution_count": 6,
   "metadata": {
    "execution": {
     "iopub.execute_input": "2020-10-19T16:14:12.033508Z",
     "iopub.status.busy": "2020-10-19T16:14:12.032584Z",
     "iopub.status.idle": "2020-10-19T16:14:12.035994Z",
     "shell.execute_reply": "2020-10-19T16:14:12.035178Z"
    },
    "papermill": {
     "duration": 0.096334,
     "end_time": "2020-10-19T16:14:12.036125",
     "exception": false,
     "start_time": "2020-10-19T16:14:11.939791",
     "status": "completed"
    },
    "tags": []
   },
   "outputs": [],
   "source": [
    "cont_1 = collections.Counter(train['education'])\n",
    "cont_2 = collections.Counter(test['education'])\n",
    "\n",
    "train['education'].fillna(cont_1.most_common()[0][0], inplace=True)\n",
    "test['education'].fillna(cont_2.most_common()[0][0], inplace=True)"
   ]
  },
  {
   "cell_type": "markdown",
   "metadata": {
    "papermill": {
     "duration": 0.048463,
     "end_time": "2020-10-19T16:14:12.130766",
     "exception": false,
     "start_time": "2020-10-19T16:14:12.082303",
     "status": "completed"
    },
    "tags": []
   },
   "source": [
    "## 1.3 Даты"
   ]
  },
  {
   "cell_type": "markdown",
   "metadata": {
    "papermill": {
     "duration": 0.045779,
     "end_time": "2020-10-19T16:14:12.224155",
     "exception": false,
     "start_time": "2020-10-19T16:14:12.178376",
     "status": "completed"
    },
    "tags": []
   },
   "source": [
    "### Приведем формат даты в удобный вид"
   ]
  },
  {
   "cell_type": "code",
   "execution_count": 7,
   "metadata": {
    "execution": {
     "iopub.execute_input": "2020-10-19T16:14:12.328593Z",
     "iopub.status.busy": "2020-10-19T16:14:12.327763Z",
     "iopub.status.idle": "2020-10-19T16:14:12.406278Z",
     "shell.execute_reply": "2020-10-19T16:14:12.406954Z"
    },
    "papermill": {
     "duration": 0.136762,
     "end_time": "2020-10-19T16:14:12.407124",
     "exception": false,
     "start_time": "2020-10-19T16:14:12.270362",
     "status": "completed"
    },
    "tags": []
   },
   "outputs": [
    {
     "data": {
      "text/html": [
       "<div>\n",
       "<style scoped>\n",
       "    .dataframe tbody tr th:only-of-type {\n",
       "        vertical-align: middle;\n",
       "    }\n",
       "\n",
       "    .dataframe tbody tr th {\n",
       "        vertical-align: top;\n",
       "    }\n",
       "\n",
       "    .dataframe thead th {\n",
       "        text-align: right;\n",
       "    }\n",
       "</style>\n",
       "<table border=\"1\" class=\"dataframe\">\n",
       "  <thead>\n",
       "    <tr style=\"text-align: right;\">\n",
       "      <th></th>\n",
       "      <th>client_id</th>\n",
       "      <th>app_date</th>\n",
       "      <th>education</th>\n",
       "      <th>sex</th>\n",
       "      <th>age</th>\n",
       "      <th>car</th>\n",
       "      <th>car_type</th>\n",
       "      <th>decline_app_cnt</th>\n",
       "      <th>good_work</th>\n",
       "      <th>score_bki</th>\n",
       "      <th>bki_request_cnt</th>\n",
       "      <th>region_rating</th>\n",
       "      <th>home_address</th>\n",
       "      <th>work_address</th>\n",
       "      <th>income</th>\n",
       "      <th>sna</th>\n",
       "      <th>first_time</th>\n",
       "      <th>foreign_passport</th>\n",
       "      <th>default</th>\n",
       "    </tr>\n",
       "  </thead>\n",
       "  <tbody>\n",
       "    <tr>\n",
       "      <th>0</th>\n",
       "      <td>25905</td>\n",
       "      <td>2014-02-01</td>\n",
       "      <td>SCH</td>\n",
       "      <td>M</td>\n",
       "      <td>62</td>\n",
       "      <td>Y</td>\n",
       "      <td>Y</td>\n",
       "      <td>0</td>\n",
       "      <td>0</td>\n",
       "      <td>-2.008753</td>\n",
       "      <td>1</td>\n",
       "      <td>50</td>\n",
       "      <td>1</td>\n",
       "      <td>2</td>\n",
       "      <td>18000</td>\n",
       "      <td>4</td>\n",
       "      <td>1</td>\n",
       "      <td>N</td>\n",
       "      <td>0</td>\n",
       "    </tr>\n",
       "    <tr>\n",
       "      <th>1</th>\n",
       "      <td>63161</td>\n",
       "      <td>2014-03-12</td>\n",
       "      <td>SCH</td>\n",
       "      <td>F</td>\n",
       "      <td>59</td>\n",
       "      <td>N</td>\n",
       "      <td>N</td>\n",
       "      <td>0</td>\n",
       "      <td>0</td>\n",
       "      <td>-1.532276</td>\n",
       "      <td>3</td>\n",
       "      <td>50</td>\n",
       "      <td>2</td>\n",
       "      <td>3</td>\n",
       "      <td>19000</td>\n",
       "      <td>4</td>\n",
       "      <td>1</td>\n",
       "      <td>N</td>\n",
       "      <td>0</td>\n",
       "    </tr>\n",
       "  </tbody>\n",
       "</table>\n",
       "</div>"
      ],
      "text/plain": [
       "   client_id   app_date education sex  age car car_type  decline_app_cnt  \\\n",
       "0      25905 2014-02-01       SCH   M   62   Y        Y                0   \n",
       "1      63161 2014-03-12       SCH   F   59   N        N                0   \n",
       "\n",
       "   good_work  score_bki  bki_request_cnt  region_rating  home_address  \\\n",
       "0          0  -2.008753                1             50             1   \n",
       "1          0  -1.532276                3             50             2   \n",
       "\n",
       "   work_address  income  sna  first_time foreign_passport  default  \n",
       "0             2   18000    4           1                N        0  \n",
       "1             3   19000    4           1                N        0  "
      ]
     },
     "metadata": {},
     "output_type": "display_data"
    },
    {
     "data": {
      "text/html": [
       "<div>\n",
       "<style scoped>\n",
       "    .dataframe tbody tr th:only-of-type {\n",
       "        vertical-align: middle;\n",
       "    }\n",
       "\n",
       "    .dataframe tbody tr th {\n",
       "        vertical-align: top;\n",
       "    }\n",
       "\n",
       "    .dataframe thead th {\n",
       "        text-align: right;\n",
       "    }\n",
       "</style>\n",
       "<table border=\"1\" class=\"dataframe\">\n",
       "  <thead>\n",
       "    <tr style=\"text-align: right;\">\n",
       "      <th></th>\n",
       "      <th>client_id</th>\n",
       "      <th>app_date</th>\n",
       "      <th>education</th>\n",
       "      <th>sex</th>\n",
       "      <th>age</th>\n",
       "      <th>car</th>\n",
       "      <th>car_type</th>\n",
       "      <th>decline_app_cnt</th>\n",
       "      <th>good_work</th>\n",
       "      <th>score_bki</th>\n",
       "      <th>bki_request_cnt</th>\n",
       "      <th>region_rating</th>\n",
       "      <th>home_address</th>\n",
       "      <th>work_address</th>\n",
       "      <th>income</th>\n",
       "      <th>sna</th>\n",
       "      <th>first_time</th>\n",
       "      <th>foreign_passport</th>\n",
       "    </tr>\n",
       "  </thead>\n",
       "  <tbody>\n",
       "    <tr>\n",
       "      <th>0</th>\n",
       "      <td>74835</td>\n",
       "      <td>2014-02-01</td>\n",
       "      <td>GRD</td>\n",
       "      <td>M</td>\n",
       "      <td>29</td>\n",
       "      <td>Y</td>\n",
       "      <td>Y</td>\n",
       "      <td>0</td>\n",
       "      <td>0</td>\n",
       "      <td>-2.271884</td>\n",
       "      <td>3</td>\n",
       "      <td>50</td>\n",
       "      <td>1</td>\n",
       "      <td>2</td>\n",
       "      <td>50000</td>\n",
       "      <td>1</td>\n",
       "      <td>4</td>\n",
       "      <td>N</td>\n",
       "    </tr>\n",
       "    <tr>\n",
       "      <th>1</th>\n",
       "      <td>17527</td>\n",
       "      <td>2014-03-12</td>\n",
       "      <td>SCH</td>\n",
       "      <td>F</td>\n",
       "      <td>39</td>\n",
       "      <td>N</td>\n",
       "      <td>N</td>\n",
       "      <td>5</td>\n",
       "      <td>0</td>\n",
       "      <td>-1.504999</td>\n",
       "      <td>2</td>\n",
       "      <td>50</td>\n",
       "      <td>1</td>\n",
       "      <td>2</td>\n",
       "      <td>5000</td>\n",
       "      <td>4</td>\n",
       "      <td>3</td>\n",
       "      <td>N</td>\n",
       "    </tr>\n",
       "  </tbody>\n",
       "</table>\n",
       "</div>"
      ],
      "text/plain": [
       "   client_id   app_date education sex  age car car_type  decline_app_cnt  \\\n",
       "0      74835 2014-02-01       GRD   M   29   Y        Y                0   \n",
       "1      17527 2014-03-12       SCH   F   39   N        N                5   \n",
       "\n",
       "   good_work  score_bki  bki_request_cnt  region_rating  home_address  \\\n",
       "0          0  -2.271884                3             50             1   \n",
       "1          0  -1.504999                2             50             1   \n",
       "\n",
       "   work_address  income  sna  first_time foreign_passport  \n",
       "0             2   50000    1           4                N  \n",
       "1             2    5000    4           3                N  "
      ]
     },
     "metadata": {},
     "output_type": "display_data"
    }
   ],
   "source": [
    "train.app_date = pd.to_datetime(train.app_date)\n",
    "test.app_date = pd.to_datetime(train.app_date)\n",
    "display(train.head(2))\n",
    "display(test.head(2))"
   ]
  },
  {
   "cell_type": "markdown",
   "metadata": {
    "papermill": {
     "duration": 0.047316,
     "end_time": "2020-10-19T16:14:12.501873",
     "exception": false,
     "start_time": "2020-10-19T16:14:12.454557",
     "status": "completed"
    },
    "tags": []
   },
   "source": [
    "### Создание новых признаков на основе дат"
   ]
  },
  {
   "cell_type": "code",
   "execution_count": 8,
   "metadata": {
    "execution": {
     "iopub.execute_input": "2020-10-19T16:14:12.606155Z",
     "iopub.status.busy": "2020-10-19T16:14:12.605342Z",
     "iopub.status.idle": "2020-10-19T16:14:12.628987Z",
     "shell.execute_reply": "2020-10-19T16:14:12.628167Z"
    },
    "papermill": {
     "duration": 0.079396,
     "end_time": "2020-10-19T16:14:12.629120",
     "exception": false,
     "start_time": "2020-10-19T16:14:12.549724",
     "status": "completed"
    },
    "tags": []
   },
   "outputs": [],
   "source": [
    "current_date = pd.to_datetime('18OCT2020')\n",
    "\n",
    "# Создание признака \"Количество прошедших дней\"\n",
    "\n",
    "train['days_passed'] = (current_date - train.app_date).dt.days\n",
    "test['days_passed'] = (current_date - test.app_date).dt.days\n",
    "\n",
    "# Создание признака \"Месяц подачи заявки\"\n",
    "train['app_date_month'] = train.app_date.dt.month\n",
    "test['app_date_month'] = test.app_date.dt.month"
   ]
  },
  {
   "cell_type": "markdown",
   "metadata": {
    "papermill": {
     "duration": 0.047412,
     "end_time": "2020-10-19T16:14:12.724243",
     "exception": false,
     "start_time": "2020-10-19T16:14:12.676831",
     "status": "completed"
    },
    "tags": []
   },
   "source": [
    "## 1.4 Итоговая группировка признаков"
   ]
  },
  {
   "cell_type": "code",
   "execution_count": 9,
   "metadata": {
    "execution": {
     "iopub.execute_input": "2020-10-19T16:14:12.826104Z",
     "iopub.status.busy": "2020-10-19T16:14:12.824837Z",
     "iopub.status.idle": "2020-10-19T16:14:12.890479Z",
     "shell.execute_reply": "2020-10-19T16:14:12.889836Z"
    },
    "papermill": {
     "duration": 0.118904,
     "end_time": "2020-10-19T16:14:12.890622",
     "exception": false,
     "start_time": "2020-10-19T16:14:12.771718",
     "status": "completed"
    },
    "tags": []
   },
   "outputs": [
    {
     "name": "stdout",
     "output_type": "stream",
     "text": [
      "<class 'pandas.core.frame.DataFrame'>\n",
      "RangeIndex: 73799 entries, 0 to 73798\n",
      "Data columns (total 21 columns):\n",
      " #   Column            Non-Null Count  Dtype         \n",
      "---  ------            --------------  -----         \n",
      " 0   client_id         73799 non-null  int64         \n",
      " 1   app_date          73799 non-null  datetime64[ns]\n",
      " 2   education         73799 non-null  object        \n",
      " 3   sex               73799 non-null  object        \n",
      " 4   age               73799 non-null  int64         \n",
      " 5   car               73799 non-null  object        \n",
      " 6   car_type          73799 non-null  object        \n",
      " 7   decline_app_cnt   73799 non-null  int64         \n",
      " 8   good_work         73799 non-null  int64         \n",
      " 9   score_bki         73799 non-null  float64       \n",
      " 10  bki_request_cnt   73799 non-null  int64         \n",
      " 11  region_rating     73799 non-null  int64         \n",
      " 12  home_address      73799 non-null  int64         \n",
      " 13  work_address      73799 non-null  int64         \n",
      " 14  income            73799 non-null  int64         \n",
      " 15  sna               73799 non-null  int64         \n",
      " 16  first_time        73799 non-null  int64         \n",
      " 17  foreign_passport  73799 non-null  object        \n",
      " 18  default           73799 non-null  int64         \n",
      " 19  days_passed       73799 non-null  int64         \n",
      " 20  app_date_month    73799 non-null  int64         \n",
      "dtypes: datetime64[ns](1), float64(1), int64(14), object(5)\n",
      "memory usage: 11.8+ MB\n"
     ]
    }
   ],
   "source": [
    "train.info()"
   ]
  },
  {
   "cell_type": "code",
   "execution_count": 10,
   "metadata": {
    "execution": {
     "iopub.execute_input": "2020-10-19T16:14:12.995034Z",
     "iopub.status.busy": "2020-10-19T16:14:12.994062Z",
     "iopub.status.idle": "2020-10-19T16:14:12.997336Z",
     "shell.execute_reply": "2020-10-19T16:14:12.996700Z"
    },
    "papermill": {
     "duration": 0.058188,
     "end_time": "2020-10-19T16:14:12.997501",
     "exception": false,
     "start_time": "2020-10-19T16:14:12.939313",
     "status": "completed"
    },
    "tags": []
   },
   "outputs": [],
   "source": [
    "bin_cols = ['sex', 'car', 'car_type', 'good_work', 'foreign_passport']\n",
    "cat_cols = ['app_date_month', 'education', 'home_address', 'work_address', 'sna', 'first_time']\n",
    "num_cols = ['days_passed', 'age', 'decline_app_cnt', 'score_bki', 'bki_request_cnt', 'region_rating', 'income']"
   ]
  },
  {
   "cell_type": "markdown",
   "metadata": {
    "papermill": {
     "duration": 0.048535,
     "end_time": "2020-10-19T16:14:13.095294",
     "exception": false,
     "start_time": "2020-10-19T16:14:13.046759",
     "status": "completed"
    },
    "tags": []
   },
   "source": [
    "# 2. Визуализация данных"
   ]
  },
  {
   "cell_type": "markdown",
   "metadata": {
    "papermill": {
     "duration": 0.048535,
     "end_time": "2020-10-19T16:14:13.193930",
     "exception": false,
     "start_time": "2020-10-19T16:14:13.145395",
     "status": "completed"
    },
    "tags": []
   },
   "source": [
    "### Недефолтных клиентов гораздо больше, что говорит о неравномерности выборки"
   ]
  },
  {
   "cell_type": "code",
   "execution_count": 11,
   "metadata": {
    "execution": {
     "iopub.execute_input": "2020-10-19T16:14:13.313935Z",
     "iopub.status.busy": "2020-10-19T16:14:13.313091Z",
     "iopub.status.idle": "2020-10-19T16:14:13.518210Z",
     "shell.execute_reply": "2020-10-19T16:14:13.519009Z"
    },
    "papermill": {
     "duration": 0.271067,
     "end_time": "2020-10-19T16:14:13.519172",
     "exception": false,
     "start_time": "2020-10-19T16:14:13.248105",
     "status": "completed"
    },
    "tags": []
   },
   "outputs": [
    {
     "data": {
      "text/plain": [
       "<matplotlib.axes._subplots.AxesSubplot at 0x7f813932f2d0>"
      ]
     },
     "metadata": {},
     "output_type": "display_data"
    },
    {
     "data": {
      "image/png": "[encoded data removed]",
      "text/plain": [
       "<Figure size 432x288 with 1 Axes>"
      ]
     },
     "metadata": {
      "needs_background": "light"
     },
     "output_type": "display_data"
    }
   ],
   "source": [
    "display(sns.countplot(train['default']))"
   ]
  },
  {
   "cell_type": "markdown",
   "metadata": {
    "papermill": {
     "duration": 0.050191,
     "end_time": "2020-10-19T16:14:13.621825",
     "exception": false,
     "start_time": "2020-10-19T16:14:13.571634",
     "status": "completed"
    },
    "tags": []
   },
   "source": [
    "## 2.1 Графики численных признаков"
   ]
  },
  {
   "cell_type": "code",
   "execution_count": 12,
   "metadata": {
    "execution": {
     "iopub.execute_input": "2020-10-19T16:14:13.738192Z",
     "iopub.status.busy": "2020-10-19T16:14:13.737093Z",
     "iopub.status.idle": "2020-10-19T16:14:15.447792Z",
     "shell.execute_reply": "2020-10-19T16:14:15.447183Z"
    },
    "papermill": {
     "duration": 1.775804,
     "end_time": "2020-10-19T16:14:15.447924",
     "exception": false,
     "start_time": "2020-10-19T16:14:13.672120",
     "status": "completed"
    },
    "tags": []
   },
   "outputs": [
    {
     "data": {
      "image/png": "[encoded data removed]",
      "text/plain": [
       "<Figure size 2160x288 with 7 Axes>"
      ]
     },
     "metadata": {
      "needs_background": "light"
     },
     "output_type": "display_data"
    }
   ],
   "source": [
    "fig, axes = plt.subplots(1, 7, figsize=(30,4))\n",
    "for col, i in zip(num_cols, range(7)):\n",
    "    sns.distplot(train[col], kde=False, ax=axes.flat[i], color=\"r\")"
   ]
  },
  {
   "cell_type": "markdown",
   "metadata": {
    "papermill": {
     "duration": 0.051368,
     "end_time": "2020-10-19T16:14:15.551221",
     "exception": false,
     "start_time": "2020-10-19T16:14:15.499853",
     "status": "completed"
    },
    "tags": []
   },
   "source": [
    "### Прологарифмируем переменные со странным распределением"
   ]
  },
  {
   "cell_type": "code",
   "execution_count": 13,
   "metadata": {
    "execution": {
     "iopub.execute_input": "2020-10-19T16:14:15.664300Z",
     "iopub.status.busy": "2020-10-19T16:14:15.663545Z",
     "iopub.status.idle": "2020-10-19T16:14:17.198072Z",
     "shell.execute_reply": "2020-10-19T16:14:17.198698Z"
    },
    "papermill": {
     "duration": 1.595545,
     "end_time": "2020-10-19T16:14:17.198856",
     "exception": false,
     "start_time": "2020-10-19T16:14:15.603311",
     "status": "completed"
    },
    "tags": []
   },
   "outputs": [
    {
     "data": {
      "image/png": "[encoded data removed]",
      "text/plain": [
       "<Figure size 720x432 with 1 Axes>"
      ]
     },
     "metadata": {
      "needs_background": "light"
     },
     "output_type": "display_data"
    },
    {
     "data": {
      "image/png": "[encoded data removed]",
      "text/plain": [
       "<Figure size 720x432 with 1 Axes>"
      ]
     },
     "metadata": {
      "needs_background": "light"
     },
     "output_type": "display_data"
    },
    {
     "data": {
      "image/png": "[encoded data removed]",
      "text/plain": [
       "<Figure size 720x432 with 1 Axes>"
      ]
     },
     "metadata": {
      "needs_background": "light"
     },
     "output_type": "display_data"
    },
    {
     "data": {
      "image/png": "[encoded data removed]",
      "text/plain": [
       "<Figure size 720x432 with 1 Axes>"
      ]
     },
     "metadata": {
      "needs_background": "light"
     },
     "output_type": "display_data"
    },
    {
     "data": {
      "image/png": "[encoded data removed]",
      "text/plain": [
       "<Figure size 720x432 with 1 Axes>"
      ]
     },
     "metadata": {
      "needs_background": "light"
     },
     "output_type": "display_data"
    }
   ],
   "source": [
    "num_cols_log = ['days_passed', 'age', 'decline_app_cnt', 'bki_request_cnt', 'income']\n",
    "for i in num_cols_log:\n",
    "    train[i] = np.log(train[i] + 1)\n",
    "    plt.figure(figsize=(10,6))\n",
    "    sns.distplot(train[i][train[i] > 0].dropna(), kde = False, rug=False, color=\"r\")\n",
    "    plt.show()"
   ]
  },
  {
   "cell_type": "code",
   "execution_count": 14,
   "metadata": {
    "execution": {
     "iopub.execute_input": "2020-10-19T16:14:17.320524Z",
     "iopub.status.busy": "2020-10-19T16:14:17.319690Z",
     "iopub.status.idle": "2020-10-19T16:14:18.656800Z",
     "shell.execute_reply": "2020-10-19T16:14:18.655983Z"
    },
    "papermill": {
     "duration": 1.401957,
     "end_time": "2020-10-19T16:14:18.656935",
     "exception": false,
     "start_time": "2020-10-19T16:14:17.254978",
     "status": "completed"
    },
    "tags": []
   },
   "outputs": [
    {
     "data": {
      "image/png": "[encoded data removed]",
      "text/plain": [
       "<Figure size 720x432 with 1 Axes>"
      ]
     },
     "metadata": {
      "needs_background": "light"
     },
     "output_type": "display_data"
    },
    {
     "data": {
      "image/png": "[encoded data removed]",
      "text/plain": [
       "<Figure size 720x432 with 1 Axes>"
      ]
     },
     "metadata": {
      "needs_background": "light"
     },
     "output_type": "display_data"
    },
    {
     "data": {
      "image/png": "[encoded data removed]",
      "text/plain": [
       "<Figure size 720x432 with 1 Axes>"
      ]
     },
     "metadata": {
      "needs_background": "light"
     },
     "output_type": "display_data"
    },
    {
     "data": {
      "image/png": "[encoded data removed]",
      "text/plain": [
       "<Figure size 720x432 with 1 Axes>"
      ]
     },
     "metadata": {
      "needs_background": "light"
     },
     "output_type": "display_data"
    },
    {
     "data": {
      "image/png": "[encoded data removed]",
      "text/plain": [
       "<Figure size 720x432 with 1 Axes>"
      ]
     },
     "metadata": {
      "needs_background": "light"
     },
     "output_type": "display_data"
    }
   ],
   "source": [
    "for i in num_cols_log:\n",
    "    test[i] = np.log(test[i] + 1)\n",
    "    plt.figure(figsize=(10,6))\n",
    "    sns.distplot(test[i][test[i] > 0].dropna(), kde = False, rug=False, color=\"r\")\n",
    "    plt.show()"
   ]
  },
  {
   "cell_type": "markdown",
   "metadata": {
    "papermill": {
     "duration": 0.05947,
     "end_time": "2020-10-19T16:14:18.777814",
     "exception": false,
     "start_time": "2020-10-19T16:14:18.718344",
     "status": "completed"
    },
    "tags": []
   },
   "source": [
    "### Боксплоты для численных переменных (days_passed, age, decline_app_cnt, score_bki, bki_request_cnt, region_rating, income)"
   ]
  },
  {
   "cell_type": "code",
   "execution_count": 15,
   "metadata": {
    "execution": {
     "iopub.execute_input": "2020-10-19T16:14:18.917641Z",
     "iopub.status.busy": "2020-10-19T16:14:18.915405Z",
     "iopub.status.idle": "2020-10-19T16:14:20.013372Z",
     "shell.execute_reply": "2020-10-19T16:14:20.013953Z"
    },
    "papermill": {
     "duration": 1.176735,
     "end_time": "2020-10-19T16:14:20.014121",
     "exception": false,
     "start_time": "2020-10-19T16:14:18.837386",
     "status": "completed"
    },
    "tags": []
   },
   "outputs": [
    {
     "data": {
      "text/plain": [
       "<matplotlib.axes._subplots.AxesSubplot at 0x7f8129a73490>"
      ]
     },
     "execution_count": 15,
     "metadata": {},
     "output_type": "execute_result"
    },
    {
     "data": {
      "image/png": "[encoded data removed]",
      "text/plain": [
       "<Figure size 1440x576 with 6 Axes>"
      ]
     },
     "metadata": {
      "needs_background": "light"
     },
     "output_type": "display_data"
    }
   ],
   "source": [
    "fig, axes = plt.subplots(2, 3, figsize=(20,8))\n",
    "\n",
    "sns.boxplot(x=train.default, y=train.age, ax=axes.flat[0], palette='husl')\n",
    "sns.boxplot(x=train.default, y=train.days_passed, ax=axes.flat[1],palette='husl')\n",
    "sns.boxplot(x=train.default, y=train.decline_app_cnt, ax=axes.flat[2],palette='husl')\n",
    "sns.boxplot(x=train.default, y=train.score_bki, ax=axes.flat[3],palette='husl')\n",
    "sns.boxplot(x=train.default, y=train.region_rating, ax=axes.flat[4],palette='husl')\n",
    "sns.boxplot(x=train.default, y=train.income, ax=axes.flat[5],palette='husl')\n"
   ]
  },
  {
   "cell_type": "markdown",
   "metadata": {
    "papermill": {
     "duration": 0.062666,
     "end_time": "2020-10-19T16:14:20.138926",
     "exception": false,
     "start_time": "2020-10-19T16:14:20.076260",
     "status": "completed"
    },
    "tags": []
   },
   "source": [
    "### Выводы по боксплотам:\n",
    "**1 boxplot:** Недефолтные клиенты в среднем старше дефолтных;  \n",
    "**2 boxplot:** Дефолтные клиенты в среднем оформляли заявки раньше, чем недефолтные, разница не значительная для вывода;  \n",
    "**3 boxplot:** У дефолтных клиентов количество отклоненных заявок выше, чем у недефолтных;  \n",
    "**4 boxplot:** Скоринговый балл в среднем выше у дефолтных клиентов, что довольно необычно;  \n",
    "**5 boxplot:** Среднее значение в данном случае больше у недефолтных клиентов, при этом медианы равны;  \n",
    "**6 boxplot:** Доход недефолтных клиентов выше, чем доход дефолтных.  "
   ]
  },
  {
   "cell_type": "markdown",
   "metadata": {
    "papermill": {
     "duration": 0.061646,
     "end_time": "2020-10-19T16:14:20.263789",
     "exception": false,
     "start_time": "2020-10-19T16:14:20.202143",
     "status": "completed"
    },
    "tags": []
   },
   "source": [
    "### Работа с выбросами"
   ]
  },
  {
   "cell_type": "markdown",
   "metadata": {
    "papermill": {
     "duration": 0.061588,
     "end_time": "2020-10-19T16:14:20.387200",
     "exception": false,
     "start_time": "2020-10-19T16:14:20.325612",
     "status": "completed"
    },
    "tags": []
   },
   "source": [
    "По результату boxplot(ов) выше необходимо очистить от выбросов следующие признаки:  \n",
    "1. decline_app_cnt  \n",
    "2. score_bki  \n",
    "3. region_rating  \n",
    "4. income"
   ]
  },
  {
   "cell_type": "markdown",
   "metadata": {
    "papermill": {
     "duration": 0.061303,
     "end_time": "2020-10-19T16:14:20.510201",
     "exception": false,
     "start_time": "2020-10-19T16:14:20.448898",
     "status": "completed"
    },
    "tags": []
   },
   "source": [
    "# 25% квартиль для признаков\n",
    "Q1_decline_app_cnt = train['decline_app_cnt'].quantile(q=0.25, interpolation='midpoint')\n",
    "Q1_score_bki = train['score_bki'].quantile(q=0.25, interpolation='midpoint')\n",
    "Q1_region_rating = train['region_rating'].quantile(q=0.25, interpolation='midpoint')\n",
    "Q1_income = train['income'].quantile(q=0.25, interpolation='midpoint')\n",
    "\n",
    "# 75% квартиль для признаков\n",
    "Q3_decline_app_cnt = train['decline_app_cnt'].quantile(q=0.75, interpolation='midpoint')\n",
    "Q3_score_bki = train['score_bki'].quantile(q=0.75, interpolation='midpoint')\n",
    "Q3_region_rating = train['region_rating'].quantile(q=0.75, interpolation='midpoint')\n",
    "Q3_income = train['income'].quantile(q=0.75, interpolation='midpoint')\n",
    "\n",
    "# межквартильный размах для признаков\n",
    "IQR_decline_app_cnt = Q3_decline_app_cnt - Q1_decline_app_cnt\n",
    "IQR_score_bki = Q3_score_bki - Q1_score_bki\n",
    "IQR_region_rating = Q3_region_rating - Q1_region_rating\n",
    "IQR_income = Q3_income - Q1_income\n",
    "\n",
    "print('Доля выбросов по признаку decline_app_cnt от общего массива: ',round(100*len(train['decline_app_cnt'][(train.decline_app_cnt > (Q3_decline_app_cnt + 1.5*IQR_decline_app_cnt)) | (train.decline_app_cnt<(Q1_decline_app_cnt - 1.5*IQR_decline_app_cnt))])/len(train),2),'%')\n",
    "print('Доля выбросов по признаку score_bki от общего массива: ',round(100*len(train['score_bki'][(train.score_bki > (Q3_score_bki + 1.5*IQR_score_bki)) | (train.score_bki<(Q1_score_bki - 1.5*IQR_score_bki))])/len(train),2),'%')\n",
    "print('Доля выбросов по признаку region_rating от общего массива: ',round(100*len(train['region_rating'][(train.region_rating > (Q3_region_rating + 1.5*IQR_region_rating)) | (train.region_rating<(Q1_region_rating - 1.5*IQR_region_rating))])/len(train),2),'%')\n",
    "print('Доля выбросов по признаку income от общего массива: ',round(100*len(train['income'][(train.income > (Q3_income + 1.5*IQR_income)) | (train.income<(Q1_income - 1.5*IQR_income))])/len(train),2),'%')"
   ]
  },
  {
   "cell_type": "markdown",
   "metadata": {
    "papermill": {
     "duration": 0.062299,
     "end_time": "2020-10-19T16:14:20.634432",
     "exception": false,
     "start_time": "2020-10-19T16:14:20.572133",
     "status": "completed"
    },
    "tags": []
   },
   "source": [
    "train = train.loc[-((train.decline_app_cnt > (Q3_decline_app_cnt + 1.5 * IQR_decline_app_cnt)) | (train.decline_app_cnt < (Q1_decline_app_cnt - 1.5 * IQR_decline_app_cnt)))]\n",
    "len(train)"
   ]
  },
  {
   "cell_type": "markdown",
   "metadata": {
    "papermill": {
     "duration": 0.061552,
     "end_time": "2020-10-19T16:14:20.758318",
     "exception": false,
     "start_time": "2020-10-19T16:14:20.696766",
     "status": "completed"
    },
    "tags": []
   },
   "source": [
    "train = train.loc[-((train.score_bki > (Q3_score_bki + 1.5 * IQR_score_bki)) | (train.score_bki < (Q1_score_bki - 1.5 * IQR_score_bki)))]\n",
    "len(train)"
   ]
  },
  {
   "cell_type": "markdown",
   "metadata": {
    "papermill": {
     "duration": 0.061607,
     "end_time": "2020-10-19T16:14:20.881770",
     "exception": false,
     "start_time": "2020-10-19T16:14:20.820163",
     "status": "completed"
    },
    "tags": []
   },
   "source": [
    "train = train.loc[-((train.region_rating > (Q3_region_rating + 1.5 * IQR_region_rating)) | (train.region_rating < (Q1_region_rating - 1.5 * IQR_region_rating)))]\n",
    "len(train)"
   ]
  },
  {
   "cell_type": "markdown",
   "metadata": {
    "papermill": {
     "duration": 0.062028,
     "end_time": "2020-10-19T16:14:21.005646",
     "exception": false,
     "start_time": "2020-10-19T16:14:20.943618",
     "status": "completed"
    },
    "tags": []
   },
   "source": [
    "train = train.loc[-((train.income > (Q3_income + 1.5 * IQR_income)) | (train.income < (Q1_income - 1.5 * IQR_income)))]\n",
    "len(train)"
   ]
  },
  {
   "cell_type": "markdown",
   "metadata": {
    "papermill": {
     "duration": 0.062121,
     "end_time": "2020-10-19T16:14:21.130436",
     "exception": false,
     "start_time": "2020-10-19T16:14:21.068315",
     "status": "completed"
    },
    "tags": []
   },
   "source": [
    "### Матрица корреляций: высокой корреляции между признаками не наблюдается"
   ]
  },
  {
   "cell_type": "code",
   "execution_count": 16,
   "metadata": {
    "execution": {
     "iopub.execute_input": "2020-10-19T16:14:21.266464Z",
     "iopub.status.busy": "2020-10-19T16:14:21.265282Z",
     "iopub.status.idle": "2020-10-19T16:14:21.732994Z",
     "shell.execute_reply": "2020-10-19T16:14:21.733569Z"
    },
    "papermill": {
     "duration": 0.538974,
     "end_time": "2020-10-19T16:14:21.733735",
     "exception": false,
     "start_time": "2020-10-19T16:14:21.194761",
     "status": "completed"
    },
    "tags": []
   },
   "outputs": [
    {
     "data": {
      "text/plain": [
       "<matplotlib.axes._subplots.AxesSubplot at 0x7f812bc594d0>"
      ]
     },
     "execution_count": 16,
     "metadata": {},
     "output_type": "execute_result"
    },
    {
     "data": {
      "image/png": "[encoded data removed]",
      "text/plain": [
       "<Figure size 1152x720 with 2 Axes>"
      ]
     },
     "metadata": {
      "needs_background": "light"
     },
     "output_type": "display_data"
    }
   ],
   "source": [
    "plt.figure(figsize=(16,10))\n",
    "sns.heatmap(train[num_cols].corr().abs(), vmin=0, vmax=1, annot=True, cmap = 'brg')"
   ]
  },
  {
   "cell_type": "markdown",
   "metadata": {
    "papermill": {
     "duration": 0.063425,
     "end_time": "2020-10-19T16:14:21.861210",
     "exception": false,
     "start_time": "2020-10-19T16:14:21.797785",
     "status": "completed"
    },
    "tags": []
   },
   "source": [
    "## 2.2 Бинарные и категориальные признаки"
   ]
  },
  {
   "cell_type": "markdown",
   "metadata": {
    "papermill": {
     "duration": 0.06368,
     "end_time": "2020-10-19T16:14:21.988820",
     "exception": false,
     "start_time": "2020-10-19T16:14:21.925140",
     "status": "completed"
    },
    "tags": []
   },
   "source": [
    "### Преобразуем бинарные переменные при помощи класса LabelEncoder"
   ]
  },
  {
   "cell_type": "code",
   "execution_count": 17,
   "metadata": {
    "execution": {
     "iopub.execute_input": "2020-10-19T16:14:22.155989Z",
     "iopub.status.busy": "2020-10-19T16:14:22.154828Z",
     "iopub.status.idle": "2020-10-19T16:14:22.367619Z",
     "shell.execute_reply": "2020-10-19T16:14:22.366877Z"
    },
    "papermill": {
     "duration": 0.313813,
     "end_time": "2020-10-19T16:14:22.367755",
     "exception": false,
     "start_time": "2020-10-19T16:14:22.053942",
     "status": "completed"
    },
    "tags": []
   },
   "outputs": [
    {
     "data": {
      "text/html": [
       "<div>\n",
       "<style scoped>\n",
       "    .dataframe tbody tr th:only-of-type {\n",
       "        vertical-align: middle;\n",
       "    }\n",
       "\n",
       "    .dataframe tbody tr th {\n",
       "        vertical-align: top;\n",
       "    }\n",
       "\n",
       "    .dataframe thead th {\n",
       "        text-align: right;\n",
       "    }\n",
       "</style>\n",
       "<table border=\"1\" class=\"dataframe\">\n",
       "  <thead>\n",
       "    <tr style=\"text-align: right;\">\n",
       "      <th></th>\n",
       "      <th>client_id</th>\n",
       "      <th>app_date</th>\n",
       "      <th>education</th>\n",
       "      <th>sex</th>\n",
       "      <th>age</th>\n",
       "      <th>car</th>\n",
       "      <th>car_type</th>\n",
       "      <th>decline_app_cnt</th>\n",
       "      <th>good_work</th>\n",
       "      <th>score_bki</th>\n",
       "      <th>...</th>\n",
       "      <th>region_rating</th>\n",
       "      <th>home_address</th>\n",
       "      <th>work_address</th>\n",
       "      <th>income</th>\n",
       "      <th>sna</th>\n",
       "      <th>first_time</th>\n",
       "      <th>foreign_passport</th>\n",
       "      <th>default</th>\n",
       "      <th>days_passed</th>\n",
       "      <th>app_date_month</th>\n",
       "    </tr>\n",
       "  </thead>\n",
       "  <tbody>\n",
       "    <tr>\n",
       "      <th>0</th>\n",
       "      <td>25905</td>\n",
       "      <td>2014-02-01</td>\n",
       "      <td>SCH</td>\n",
       "      <td>1</td>\n",
       "      <td>4.143135</td>\n",
       "      <td>1</td>\n",
       "      <td>1</td>\n",
       "      <td>0.0</td>\n",
       "      <td>0</td>\n",
       "      <td>-2.008753</td>\n",
       "      <td>...</td>\n",
       "      <td>50</td>\n",
       "      <td>1</td>\n",
       "      <td>2</td>\n",
       "      <td>9.798183</td>\n",
       "      <td>4</td>\n",
       "      <td>1</td>\n",
       "      <td>0</td>\n",
       "      <td>0</td>\n",
       "      <td>7.804659</td>\n",
       "      <td>2</td>\n",
       "    </tr>\n",
       "    <tr>\n",
       "      <th>1</th>\n",
       "      <td>63161</td>\n",
       "      <td>2014-03-12</td>\n",
       "      <td>SCH</td>\n",
       "      <td>0</td>\n",
       "      <td>4.094345</td>\n",
       "      <td>0</td>\n",
       "      <td>0</td>\n",
       "      <td>0.0</td>\n",
       "      <td>0</td>\n",
       "      <td>-1.532276</td>\n",
       "      <td>...</td>\n",
       "      <td>50</td>\n",
       "      <td>2</td>\n",
       "      <td>3</td>\n",
       "      <td>9.852247</td>\n",
       "      <td>4</td>\n",
       "      <td>1</td>\n",
       "      <td>0</td>\n",
       "      <td>0</td>\n",
       "      <td>7.788626</td>\n",
       "      <td>3</td>\n",
       "    </tr>\n",
       "  </tbody>\n",
       "</table>\n",
       "<p>2 rows × 21 columns</p>\n",
       "</div>"
      ],
      "text/plain": [
       "   client_id   app_date education  sex       age  car  car_type  \\\n",
       "0      25905 2014-02-01       SCH    1  4.143135    1         1   \n",
       "1      63161 2014-03-12       SCH    0  4.094345    0         0   \n",
       "\n",
       "   decline_app_cnt  good_work  score_bki  ...  region_rating  home_address  \\\n",
       "0              0.0          0  -2.008753  ...             50             1   \n",
       "1              0.0          0  -1.532276  ...             50             2   \n",
       "\n",
       "   work_address    income  sna  first_time  foreign_passport  default  \\\n",
       "0             2  9.798183    4           1                 0        0   \n",
       "1             3  9.852247    4           1                 0        0   \n",
       "\n",
       "   days_passed  app_date_month  \n",
       "0     7.804659               2  \n",
       "1     7.788626               3  \n",
       "\n",
       "[2 rows x 21 columns]"
      ]
     },
     "metadata": {},
     "output_type": "display_data"
    },
    {
     "data": {
      "text/html": [
       "<div>\n",
       "<style scoped>\n",
       "    .dataframe tbody tr th:only-of-type {\n",
       "        vertical-align: middle;\n",
       "    }\n",
       "\n",
       "    .dataframe tbody tr th {\n",
       "        vertical-align: top;\n",
       "    }\n",
       "\n",
       "    .dataframe thead th {\n",
       "        text-align: right;\n",
       "    }\n",
       "</style>\n",
       "<table border=\"1\" class=\"dataframe\">\n",
       "  <thead>\n",
       "    <tr style=\"text-align: right;\">\n",
       "      <th></th>\n",
       "      <th>client_id</th>\n",
       "      <th>app_date</th>\n",
       "      <th>education</th>\n",
       "      <th>sex</th>\n",
       "      <th>age</th>\n",
       "      <th>car</th>\n",
       "      <th>car_type</th>\n",
       "      <th>decline_app_cnt</th>\n",
       "      <th>good_work</th>\n",
       "      <th>score_bki</th>\n",
       "      <th>bki_request_cnt</th>\n",
       "      <th>region_rating</th>\n",
       "      <th>home_address</th>\n",
       "      <th>work_address</th>\n",
       "      <th>income</th>\n",
       "      <th>sna</th>\n",
       "      <th>first_time</th>\n",
       "      <th>foreign_passport</th>\n",
       "      <th>days_passed</th>\n",
       "      <th>app_date_month</th>\n",
       "    </tr>\n",
       "  </thead>\n",
       "  <tbody>\n",
       "    <tr>\n",
       "      <th>0</th>\n",
       "      <td>74835</td>\n",
       "      <td>2014-02-01</td>\n",
       "      <td>GRD</td>\n",
       "      <td>1</td>\n",
       "      <td>3.401197</td>\n",
       "      <td>1</td>\n",
       "      <td>1</td>\n",
       "      <td>0.000000</td>\n",
       "      <td>0</td>\n",
       "      <td>-2.271884</td>\n",
       "      <td>1.386294</td>\n",
       "      <td>50</td>\n",
       "      <td>1</td>\n",
       "      <td>2</td>\n",
       "      <td>10.819798</td>\n",
       "      <td>1</td>\n",
       "      <td>4</td>\n",
       "      <td>0</td>\n",
       "      <td>7.804659</td>\n",
       "      <td>2</td>\n",
       "    </tr>\n",
       "    <tr>\n",
       "      <th>1</th>\n",
       "      <td>17527</td>\n",
       "      <td>2014-03-12</td>\n",
       "      <td>SCH</td>\n",
       "      <td>0</td>\n",
       "      <td>3.688879</td>\n",
       "      <td>0</td>\n",
       "      <td>0</td>\n",
       "      <td>1.791759</td>\n",
       "      <td>0</td>\n",
       "      <td>-1.504999</td>\n",
       "      <td>1.098612</td>\n",
       "      <td>50</td>\n",
       "      <td>1</td>\n",
       "      <td>2</td>\n",
       "      <td>8.517393</td>\n",
       "      <td>4</td>\n",
       "      <td>3</td>\n",
       "      <td>0</td>\n",
       "      <td>7.788626</td>\n",
       "      <td>3</td>\n",
       "    </tr>\n",
       "  </tbody>\n",
       "</table>\n",
       "</div>"
      ],
      "text/plain": [
       "   client_id   app_date education  sex       age  car  car_type  \\\n",
       "0      74835 2014-02-01       GRD    1  3.401197    1         1   \n",
       "1      17527 2014-03-12       SCH    0  3.688879    0         0   \n",
       "\n",
       "   decline_app_cnt  good_work  score_bki  bki_request_cnt  region_rating  \\\n",
       "0         0.000000          0  -2.271884         1.386294             50   \n",
       "1         1.791759          0  -1.504999         1.098612             50   \n",
       "\n",
       "   home_address  work_address     income  sna  first_time  foreign_passport  \\\n",
       "0             1             2  10.819798    1           4                 0   \n",
       "1             1             2   8.517393    4           3                 0   \n",
       "\n",
       "   days_passed  app_date_month  \n",
       "0     7.804659               2  \n",
       "1     7.788626               3  "
      ]
     },
     "metadata": {},
     "output_type": "display_data"
    }
   ],
   "source": [
    "label_encoder = LabelEncoder()\n",
    "\n",
    "for column in bin_cols:\n",
    "    train[column] = label_encoder.fit_transform(train[column])\n",
    "    test[column] = label_encoder.fit_transform(test[column])\n",
    "\n",
    "display(train.head(2))\n",
    "display(test.head(2))"
   ]
  },
  {
   "cell_type": "markdown",
   "metadata": {
    "papermill": {
     "duration": 0.06585,
     "end_time": "2020-10-19T16:14:22.499687",
     "exception": false,
     "start_time": "2020-10-19T16:14:22.433837",
     "status": "completed"
    },
    "tags": []
   },
   "source": [
    "### Преобразуем категориальные переменные при помощи OneHotEncoder"
   ]
  },
  {
   "cell_type": "code",
   "execution_count": 18,
   "metadata": {
    "execution": {
     "iopub.execute_input": "2020-10-19T16:14:22.640252Z",
     "iopub.status.busy": "2020-10-19T16:14:22.639419Z",
     "iopub.status.idle": "2020-10-19T16:14:23.031164Z",
     "shell.execute_reply": "2020-10-19T16:14:23.030536Z"
    },
    "papermill": {
     "duration": 0.465337,
     "end_time": "2020-10-19T16:14:23.031304",
     "exception": false,
     "start_time": "2020-10-19T16:14:22.565967",
     "status": "completed"
    },
    "tags": []
   },
   "outputs": [
    {
     "name": "stdout",
     "output_type": "stream",
     "text": [
      "(73799, 23)\n",
      "(36349, 23)\n"
     ]
    }
   ],
   "source": [
    "x_cat = OneHotEncoder(sparse = False).fit_transform(train[cat_cols].values)\n",
    "y_cat = OneHotEncoder(sparse = False).fit_transform(test[cat_cols].values)\n",
    "\n",
    "print(x_cat.shape)\n",
    "print(y_cat.shape)"
   ]
  },
  {
   "cell_type": "markdown",
   "metadata": {
    "papermill": {
     "duration": 0.067753,
     "end_time": "2020-10-19T16:14:23.166072",
     "exception": false,
     "start_time": "2020-10-19T16:14:23.098319",
     "status": "completed"
    },
    "tags": []
   },
   "source": [
    "### Преобразовываем признак education"
   ]
  },
  {
   "cell_type": "code",
   "execution_count": 19,
   "metadata": {
    "execution": {
     "iopub.execute_input": "2020-10-19T16:14:23.309271Z",
     "iopub.status.busy": "2020-10-19T16:14:23.308537Z",
     "iopub.status.idle": "2020-10-19T16:14:23.321353Z",
     "shell.execute_reply": "2020-10-19T16:14:23.320772Z"
    },
    "papermill": {
     "duration": 0.087974,
     "end_time": "2020-10-19T16:14:23.321503",
     "exception": false,
     "start_time": "2020-10-19T16:14:23.233529",
     "status": "completed"
    },
    "tags": []
   },
   "outputs": [
    {
     "data": {
      "text/html": [
       "<div>\n",
       "<style scoped>\n",
       "    .dataframe tbody tr th:only-of-type {\n",
       "        vertical-align: middle;\n",
       "    }\n",
       "\n",
       "    .dataframe tbody tr th {\n",
       "        vertical-align: top;\n",
       "    }\n",
       "\n",
       "    .dataframe thead th {\n",
       "        text-align: right;\n",
       "    }\n",
       "</style>\n",
       "<table border=\"1\" class=\"dataframe\">\n",
       "  <thead>\n",
       "    <tr style=\"text-align: right;\">\n",
       "      <th></th>\n",
       "      <th>ACD</th>\n",
       "      <th>GRD</th>\n",
       "      <th>PGR</th>\n",
       "      <th>SCH</th>\n",
       "      <th>UGR</th>\n",
       "    </tr>\n",
       "  </thead>\n",
       "  <tbody>\n",
       "    <tr>\n",
       "      <th>0</th>\n",
       "      <td>0</td>\n",
       "      <td>0</td>\n",
       "      <td>0</td>\n",
       "      <td>1</td>\n",
       "      <td>0</td>\n",
       "    </tr>\n",
       "    <tr>\n",
       "      <th>1</th>\n",
       "      <td>0</td>\n",
       "      <td>0</td>\n",
       "      <td>0</td>\n",
       "      <td>1</td>\n",
       "      <td>0</td>\n",
       "    </tr>\n",
       "  </tbody>\n",
       "</table>\n",
       "</div>"
      ],
      "text/plain": [
       "   ACD  GRD  PGR  SCH  UGR\n",
       "0    0    0    0    1    0\n",
       "1    0    0    0    1    0"
      ]
     },
     "execution_count": 19,
     "metadata": {},
     "output_type": "execute_result"
    }
   ],
   "source": [
    "train_education = pd.get_dummies(train['education'])\n",
    "train_education.head(2)"
   ]
  },
  {
   "cell_type": "markdown",
   "metadata": {
    "papermill": {
     "duration": 0.066762,
     "end_time": "2020-10-19T16:14:23.455603",
     "exception": false,
     "start_time": "2020-10-19T16:14:23.388841",
     "status": "completed"
    },
    "tags": []
   },
   "source": [
    "## 2.3 Значимость численных признаков"
   ]
  },
  {
   "cell_type": "code",
   "execution_count": 20,
   "metadata": {
    "execution": {
     "iopub.execute_input": "2020-10-19T16:14:23.649004Z",
     "iopub.status.busy": "2020-10-19T16:14:23.647784Z",
     "iopub.status.idle": "2020-10-19T16:14:23.836424Z",
     "shell.execute_reply": "2020-10-19T16:14:23.835709Z"
    },
    "papermill": {
     "duration": 0.266553,
     "end_time": "2020-10-19T16:14:23.836570",
     "exception": false,
     "start_time": "2020-10-19T16:14:23.570017",
     "status": "completed"
    },
    "tags": []
   },
   "outputs": [
    {
     "data": {
      "text/plain": [
       "<matplotlib.axes._subplots.AxesSubplot at 0x7f812be4d210>"
      ]
     },
     "execution_count": 20,
     "metadata": {},
     "output_type": "execute_result"
    },
    {
     "data": {
      "image/png": "[encoded data removed]",
      "text/plain": [
       "<Figure size 432x288 with 1 Axes>"
      ]
     },
     "metadata": {
      "needs_background": "light"
     },
     "output_type": "display_data"
    }
   ],
   "source": [
    "imp_num = Series(f_classif(train[num_cols], train['default'])[0], index = num_cols)\n",
    "imp_num.sort_values(inplace = True)\n",
    "imp_num.plot(kind = 'barh')"
   ]
  },
  {
   "cell_type": "markdown",
   "metadata": {
    "papermill": {
     "duration": 0.068563,
     "end_time": "2020-10-19T16:14:23.973587",
     "exception": false,
     "start_time": "2020-10-19T16:14:23.905024",
     "status": "completed"
    },
    "tags": []
   },
   "source": [
    "## 2.4 Значимость бинарных и категориальных признаков"
   ]
  },
  {
   "cell_type": "code",
   "execution_count": 21,
   "metadata": {
    "execution": {
     "iopub.execute_input": "2020-10-19T16:14:24.125998Z",
     "iopub.status.busy": "2020-10-19T16:14:24.125177Z",
     "iopub.status.idle": "2020-10-19T16:14:24.520362Z",
     "shell.execute_reply": "2020-10-19T16:14:24.519625Z"
    },
    "papermill": {
     "duration": 0.47777,
     "end_time": "2020-10-19T16:14:24.520510",
     "exception": false,
     "start_time": "2020-10-19T16:14:24.042740",
     "status": "completed"
    },
    "tags": []
   },
   "outputs": [
    {
     "data": {
      "text/plain": [
       "<matplotlib.axes._subplots.AxesSubplot at 0x7f812c058450>"
      ]
     },
     "execution_count": 21,
     "metadata": {},
     "output_type": "execute_result"
    },
    {
     "data": {
      "image/png": "[encoded data removed]",
      "text/plain": [
       "<Figure size 432x288 with 1 Axes>"
      ]
     },
     "metadata": {
      "needs_background": "light"
     },
     "output_type": "display_data"
    }
   ],
   "source": [
    "edu_cat_cols = ['app_date_month', 'home_address', 'work_address', 'sna', 'first_time']\n",
    "\n",
    "imp_cat_bin = pd.Series(mutual_info_classif(pd.concat([train[edu_cat_cols+bin_cols], train_education], axis=1),\n",
    "                                        train['default'], discrete_features =True),\n",
    "                    index = pd.concat([train[edu_cat_cols+bin_cols], train_education], axis=1).columns)\n",
    "imp_cat_bin.sort_values(inplace = True)\n",
    "imp_cat_bin.plot(kind = 'barh')"
   ]
  },
  {
   "cell_type": "markdown",
   "metadata": {
    "papermill": {
     "duration": 0.069814,
     "end_time": "2020-10-19T16:14:24.660981",
     "exception": false,
     "start_time": "2020-10-19T16:14:24.591167",
     "status": "completed"
    },
    "tags": []
   },
   "source": [
    "### Выводы о значимости:\n",
    "1. Признак score_bki и sna - имеют огромный вес;\n",
    "2. Признаки sex и age - не имеют особого значения;\n",
    "3. Признак GRD имеет наибольшее влияние из всех типов признака education."
   ]
  },
  {
   "cell_type": "markdown",
   "metadata": {
    "papermill": {
     "duration": 0.069751,
     "end_time": "2020-10-19T16:14:24.800850",
     "exception": false,
     "start_time": "2020-10-19T16:14:24.731099",
     "status": "completed"
    },
    "tags": []
   },
   "source": [
    "# 3. Подготовка данных к ML"
   ]
  },
  {
   "cell_type": "code",
   "execution_count": 22,
   "metadata": {
    "execution": {
     "iopub.execute_input": "2020-10-19T16:14:24.949932Z",
     "iopub.status.busy": "2020-10-19T16:14:24.949136Z",
     "iopub.status.idle": "2020-10-19T16:14:24.996523Z",
     "shell.execute_reply": "2020-10-19T16:14:24.995813Z"
    },
    "papermill": {
     "duration": 0.125735,
     "end_time": "2020-10-19T16:14:24.996650",
     "exception": false,
     "start_time": "2020-10-19T16:14:24.870915",
     "status": "completed"
    },
    "tags": []
   },
   "outputs": [],
   "source": [
    "from sklearn.preprocessing import PolynomialFeatures\n",
    "\n",
    "poly = PolynomialFeatures(2)\n",
    "\n",
    "x_tr = poly.fit_transform(train[num_cols].values)\n",
    "y_test = poly.fit_transform(test[num_cols].values)"
   ]
  },
  {
   "cell_type": "markdown",
   "metadata": {
    "papermill": {
     "duration": 0.070505,
     "end_time": "2020-10-19T16:14:25.138189",
     "exception": false,
     "start_time": "2020-10-19T16:14:25.067684",
     "status": "completed"
    },
    "tags": []
   },
   "source": [
    "## 3.1 Стандартизация численных признаков"
   ]
  },
  {
   "cell_type": "code",
   "execution_count": 23,
   "metadata": {
    "execution": {
     "iopub.execute_input": "2020-10-19T16:14:25.287736Z",
     "iopub.status.busy": "2020-10-19T16:14:25.286928Z",
     "iopub.status.idle": "2020-10-19T16:14:25.387943Z",
     "shell.execute_reply": "2020-10-19T16:14:25.387230Z"
    },
    "papermill": {
     "duration": 0.177297,
     "end_time": "2020-10-19T16:14:25.388072",
     "exception": false,
     "start_time": "2020-10-19T16:14:25.210775",
     "status": "completed"
    },
    "tags": []
   },
   "outputs": [
    {
     "name": "stdout",
     "output_type": "stream",
     "text": [
      "[[ 0.          0.93588253  1.71113664 ... -0.56439672 -0.64537197\n",
      "  -0.7868588 ]\n",
      " [ 0.         -0.27295273  1.5399884  ... -0.56439672 -0.62789392\n",
      "  -0.71429225]\n",
      " [ 0.          0.93588253 -1.39343857 ...  1.91366223  1.51939095\n",
      "  -0.08530891]\n",
      " ...\n",
      " [ 0.         -1.56503033 -0.66507223 ...  1.91366223  1.72911286\n",
      "   0.49692694]\n",
      " [ 0.          1.79196515 -0.89146325 ... -0.56439672 -0.75056844\n",
      "  -1.21518657]\n",
      " [ 0.          1.21211344 -0.35072683 ... -0.56439672 -0.53917737\n",
      "  -0.33979532]]\n",
      "[[ 0.          0.93953565 -0.88333898 ... -0.56902243 -0.31968854\n",
      "   0.65637674]\n",
      " [ 0.         -0.27355575  0.12606863 ... -0.56902243 -1.06274348\n",
      "  -2.40227913]\n",
      " [ 0.          0.93953565  0.97850869 ... -0.56902243 -0.48454293\n",
      "  -0.0850894 ]\n",
      " ...\n",
      " [ 0.         -1.37903871 -0.65688874 ... -0.56902243 -0.260849\n",
      "   0.92970115]\n",
      " [ 0.         -0.46192364 -1.12541848 ...  1.90270276  1.51166781\n",
      "  -0.0850894 ]\n",
      " [ 0.         -1.1249291   0.0372345  ... -0.56902243 -0.70823148\n",
      "  -1.03384706]]\n"
     ]
    }
   ],
   "source": [
    "x_num = StandardScaler().fit_transform(x_tr)\n",
    "y_num = StandardScaler().fit_transform(y_test)\n",
    "print(x_num)\n",
    "print(y_num)"
   ]
  },
  {
   "cell_type": "markdown",
   "metadata": {
    "papermill": {
     "duration": 0.071882,
     "end_time": "2020-10-19T16:14:25.531534",
     "exception": false,
     "start_time": "2020-10-19T16:14:25.459652",
     "status": "completed"
    },
    "tags": []
   },
   "source": [
    "## 3.2 Объединение всех данных в единый формат"
   ]
  },
  {
   "cell_type": "code",
   "execution_count": 24,
   "metadata": {
    "execution": {
     "iopub.execute_input": "2020-10-19T16:14:25.685419Z",
     "iopub.status.busy": "2020-10-19T16:14:25.684148Z",
     "iopub.status.idle": "2020-10-19T16:14:25.731011Z",
     "shell.execute_reply": "2020-10-19T16:14:25.731663Z"
    },
    "papermill": {
     "duration": 0.128173,
     "end_time": "2020-10-19T16:14:25.731829",
     "exception": false,
     "start_time": "2020-10-19T16:14:25.603656",
     "status": "completed"
    },
    "tags": []
   },
   "outputs": [],
   "source": [
    "# Merge\n",
    "\n",
    "X = np.hstack([x_num, train[bin_cols].values, x_cat])\n",
    "Y = train['default'].values\n",
    "\n",
    "id_test = test.client_id\n",
    "test = np.hstack([y_num, test[bin_cols].values, y_cat])"
   ]
  },
  {
   "cell_type": "code",
   "execution_count": 25,
   "metadata": {
    "execution": {
     "iopub.execute_input": "2020-10-19T16:14:25.883624Z",
     "iopub.status.busy": "2020-10-19T16:14:25.881276Z",
     "iopub.status.idle": "2020-10-19T16:14:25.914534Z",
     "shell.execute_reply": "2020-10-19T16:14:25.913877Z"
    },
    "papermill": {
     "duration": 0.11051,
     "end_time": "2020-10-19T16:14:25.914662",
     "exception": false,
     "start_time": "2020-10-19T16:14:25.804152",
     "status": "completed"
    },
    "tags": []
   },
   "outputs": [],
   "source": [
    "X_train, X_test, y_train, y_test = train_test_split(X, Y, test_size=0.30, random_state=42, shuffle = True)"
   ]
  },
  {
   "cell_type": "markdown",
   "metadata": {
    "papermill": {
     "duration": 0.071988,
     "end_time": "2020-10-19T16:14:26.058387",
     "exception": false,
     "start_time": "2020-10-19T16:14:25.986399",
     "status": "completed"
    },
    "tags": []
   },
   "source": [
    "# 4. Регуляризация"
   ]
  },
  {
   "cell_type": "code",
   "execution_count": 26,
   "metadata": {
    "execution": {
     "iopub.execute_input": "2020-10-19T16:14:26.213412Z",
     "iopub.status.busy": "2020-10-19T16:14:26.212584Z",
     "iopub.status.idle": "2020-10-19T16:14:59.419384Z",
     "shell.execute_reply": "2020-10-19T16:14:59.420101Z"
    },
    "papermill": {
     "duration": 33.289986,
     "end_time": "2020-10-19T16:14:59.420263",
     "exception": false,
     "start_time": "2020-10-19T16:14:26.130277",
     "status": "completed"
    },
    "tags": []
   },
   "outputs": [
    {
     "name": "stdout",
     "output_type": "stream",
     "text": [
      "Лучший penalty: l2\n",
      "Лучшее C: 7.742636826811269\n"
     ]
    }
   ],
   "source": [
    "from sklearn.model_selection import GridSearchCV\n",
    "\n",
    "# Зададим ограничения для параметра регуляризации\n",
    "C = np.logspace(0, 4, 10)\n",
    "\n",
    "penalty = ['l1', 'l2']\n",
    "hyperparameters = dict(C=C, penalty=penalty)\n",
    "model = LogisticRegression()\n",
    "model.fit(X_train, y_train)\n",
    "\n",
    "clf = GridSearchCV(model, hyperparameters, cv=5, verbose=0)\n",
    "\n",
    "best_model = clf.fit(X_train, y_train)\n",
    "\n",
    "print('Лучший penalty:', best_model.best_estimator_.get_params()['penalty'])\n",
    "print('Лучшее C:', best_model.best_estimator_.get_params()['C'])"
   ]
  },
  {
   "cell_type": "markdown",
   "metadata": {
    "papermill": {
     "duration": 0.071624,
     "end_time": "2020-10-19T16:14:59.563884",
     "exception": false,
     "start_time": "2020-10-19T16:14:59.492260",
     "status": "completed"
    },
    "tags": []
   },
   "source": [
    "# 5. Обучение модели"
   ]
  },
  {
   "cell_type": "code",
   "execution_count": 27,
   "metadata": {
    "execution": {
     "iopub.execute_input": "2020-10-19T16:14:59.713138Z",
     "iopub.status.busy": "2020-10-19T16:14:59.712338Z",
     "iopub.status.idle": "2020-10-19T16:15:03.527938Z",
     "shell.execute_reply": "2020-10-19T16:15:03.528642Z"
    },
    "papermill": {
     "duration": 3.893334,
     "end_time": "2020-10-19T16:15:03.528822",
     "exception": false,
     "start_time": "2020-10-19T16:14:59.635488",
     "status": "completed"
    },
    "tags": []
   },
   "outputs": [
    {
     "data": {
      "text/plain": [
       "LogisticRegression(C=166.81005372000593, max_iter=500)"
      ]
     },
     "execution_count": 27,
     "metadata": {},
     "output_type": "execute_result"
    }
   ],
   "source": [
    "lgr = LogisticRegression(penalty = 'l2', C=166.81005372000593, max_iter=500)\n",
    "lgr.fit(X_train, y_train)"
   ]
  },
  {
   "cell_type": "code",
   "execution_count": 28,
   "metadata": {
    "execution": {
     "iopub.execute_input": "2020-10-19T16:15:03.687694Z",
     "iopub.status.busy": "2020-10-19T16:15:03.686506Z",
     "iopub.status.idle": "2020-10-19T16:15:03.880033Z",
     "shell.execute_reply": "2020-10-19T16:15:03.879174Z"
    },
    "papermill": {
     "duration": 0.275018,
     "end_time": "2020-10-19T16:15:03.880181",
     "exception": false,
     "start_time": "2020-10-19T16:15:03.605163",
     "status": "completed"
    },
    "tags": []
   },
   "outputs": [
    {
     "data": {
      "image/png": "[encoded data removed]",
      "text/plain": [
       "<Figure size 432x288 with 1 Axes>"
      ]
     },
     "metadata": {
      "needs_background": "light"
     },
     "output_type": "display_data"
    }
   ],
   "source": [
    "probs = lgr.predict_proba(X_test)\n",
    "probs = probs[:,1]\n",
    "\n",
    "\n",
    "fpr, tpr, threshold = roc_curve(y_test, probs)\n",
    "roc_auc = roc_auc_score(y_test, probs)\n",
    "\n",
    "plt.figure()\n",
    "plt.plot([0, 1], label='Baseline', linestyle='--')\n",
    "plt.plot(fpr, tpr, label = 'Regression')\n",
    "plt.title('Logistic Regression ROC AUC = %0.3f' % roc_auc)\n",
    "plt.ylabel('True Positive Rate')\n",
    "plt.xlabel('False Positive Rate')\n",
    "plt.legend(loc = 'lower right')\n",
    "plt.show()"
   ]
  },
  {
   "cell_type": "markdown",
   "metadata": {
    "papermill": {
     "duration": 0.073587,
     "end_time": "2020-10-19T16:15:04.029405",
     "exception": false,
     "start_time": "2020-10-19T16:15:03.955818",
     "status": "completed"
    },
    "tags": []
   },
   "source": [
    "## 5.1 Обучим модель на всем датасете"
   ]
  },
  {
   "cell_type": "code",
   "execution_count": 29,
   "metadata": {
    "execution": {
     "iopub.execute_input": "2020-10-19T16:15:04.185754Z",
     "iopub.status.busy": "2020-10-19T16:15:04.184956Z",
     "iopub.status.idle": "2020-10-19T16:15:09.590862Z",
     "shell.execute_reply": "2020-10-19T16:15:09.589938Z"
    },
    "papermill": {
     "duration": 5.487308,
     "end_time": "2020-10-19T16:15:09.591009",
     "exception": false,
     "start_time": "2020-10-19T16:15:04.103701",
     "status": "completed"
    },
    "tags": []
   },
   "outputs": [],
   "source": [
    "lgr = LogisticRegression(penalty = 'l2', C=166.81005372000593, max_iter=500)\n",
    "lgr.fit(X, Y)\n",
    "probs = lgr.predict_proba(test)\n",
    "probs = probs[:,1]"
   ]
  },
  {
   "cell_type": "code",
   "execution_count": 30,
   "metadata": {
    "execution": {
     "iopub.execute_input": "2020-10-19T16:15:09.749714Z",
     "iopub.status.busy": "2020-10-19T16:15:09.748890Z",
     "iopub.status.idle": "2020-10-19T16:15:10.010783Z",
     "shell.execute_reply": "2020-10-19T16:15:10.010147Z"
    },
    "papermill": {
     "duration": 0.342857,
     "end_time": "2020-10-19T16:15:10.010930",
     "exception": false,
     "start_time": "2020-10-19T16:15:09.668073",
     "status": "completed"
    },
    "tags": []
   },
   "outputs": [
    {
     "data": {
      "text/html": [
       "<div>\n",
       "<style scoped>\n",
       "    .dataframe tbody tr th:only-of-type {\n",
       "        vertical-align: middle;\n",
       "    }\n",
       "\n",
       "    .dataframe tbody tr th {\n",
       "        vertical-align: top;\n",
       "    }\n",
       "\n",
       "    .dataframe thead th {\n",
       "        text-align: right;\n",
       "    }\n",
       "</style>\n",
       "<table border=\"1\" class=\"dataframe\">\n",
       "  <thead>\n",
       "    <tr style=\"text-align: right;\">\n",
       "      <th></th>\n",
       "      <th>client_id</th>\n",
       "      <th>default</th>\n",
       "    </tr>\n",
       "  </thead>\n",
       "  <tbody>\n",
       "    <tr>\n",
       "      <th>0</th>\n",
       "      <td>74835</td>\n",
       "      <td>0.050151</td>\n",
       "    </tr>\n",
       "    <tr>\n",
       "      <th>1</th>\n",
       "      <td>17527</td>\n",
       "      <td>0.380070</td>\n",
       "    </tr>\n",
       "    <tr>\n",
       "      <th>2</th>\n",
       "      <td>75683</td>\n",
       "      <td>0.079487</td>\n",
       "    </tr>\n",
       "    <tr>\n",
       "      <th>3</th>\n",
       "      <td>26883</td>\n",
       "      <td>0.078358</td>\n",
       "    </tr>\n",
       "    <tr>\n",
       "      <th>4</th>\n",
       "      <td>28862</td>\n",
       "      <td>0.011679</td>\n",
       "    </tr>\n",
       "    <tr>\n",
       "      <th>...</th>\n",
       "      <td>...</td>\n",
       "      <td>...</td>\n",
       "    </tr>\n",
       "    <tr>\n",
       "      <th>36344</th>\n",
       "      <td>83775</td>\n",
       "      <td>0.410242</td>\n",
       "    </tr>\n",
       "    <tr>\n",
       "      <th>36345</th>\n",
       "      <td>106254</td>\n",
       "      <td>0.017182</td>\n",
       "    </tr>\n",
       "    <tr>\n",
       "      <th>36346</th>\n",
       "      <td>81852</td>\n",
       "      <td>0.267835</td>\n",
       "    </tr>\n",
       "    <tr>\n",
       "      <th>36347</th>\n",
       "      <td>1971</td>\n",
       "      <td>0.195066</td>\n",
       "    </tr>\n",
       "    <tr>\n",
       "      <th>36348</th>\n",
       "      <td>69044</td>\n",
       "      <td>0.215092</td>\n",
       "    </tr>\n",
       "  </tbody>\n",
       "</table>\n",
       "<p>36349 rows × 2 columns</p>\n",
       "</div>"
      ],
      "text/plain": [
       "       client_id   default\n",
       "0          74835  0.050151\n",
       "1          17527  0.380070\n",
       "2          75683  0.079487\n",
       "3          26883  0.078358\n",
       "4          28862  0.011679\n",
       "...          ...       ...\n",
       "36344      83775  0.410242\n",
       "36345     106254  0.017182\n",
       "36346      81852  0.267835\n",
       "36347       1971  0.195066\n",
       "36348      69044  0.215092\n",
       "\n",
       "[36349 rows x 2 columns]"
      ]
     },
     "execution_count": 30,
     "metadata": {},
     "output_type": "execute_result"
    }
   ],
   "source": [
    "my_submission = pd.DataFrame({'client_id': id_test, \n",
    "                            'default': probs})\n",
    "my_submission.to_csv('submission.csv', index=False)\n",
    "\n",
    "my_submission"
   ]
  }
 ],
 "metadata": {
  "kernelspec": {
   "display_name": "Python 3",
   "language": "python",
   "name": "python3"
  },
  "language_info": {
   "codemirror_mode": {
    "name": "ipython",
    "version": 3
   },
   "file_extension": ".py",
   "mimetype": "text/x-python",
   "name": "python",
   "nbconvert_exporter": "python",
   "pygments_lexer": "ipython3",
   "version": "3.7.6"
  },
  "papermill": {
   "duration": 67.065026,
   "end_time": "2020-10-19T16:15:10.192937",
   "environment_variables": {},
   "exception": null,
   "input_path": "__notebook__.ipynb",
   "output_path": "__notebook__.ipynb",
   "parameters": {},
   "start_time": "2020-10-19T16:14:03.127911",
   "version": "2.1.0"
  }
 },
 "nbformat": 4,
 "nbformat_minor": 4
}
